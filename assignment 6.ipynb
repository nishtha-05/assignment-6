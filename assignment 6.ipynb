{
 "cells": [
  {
   "cell_type": "code",
   "execution_count": null,
   "id": "6eb1e75a-a924-4278-888c-abfe869423bd",
   "metadata": {},
   "outputs": [],
   "source": [
    "def check_password(p):\n",
    "    c, c1, c2, c3 = 0, 0, 0, 0\n",
    "    if len(p) >= 10:\n",
    "        for i in p:\n",
    "            if i.isupper():\n",
    "                c += 1\n",
    "            elif i.islower():\n",
    "                c1 += 1\n",
    "            elif i.isdigit():\n",
    "                c2 += 1\n",
    "            elif i in [\"@\", \"#\", \"$\", \"%\", \"&\", \"*\", \"^\"]:\n",
    "                c3 += 1\n",
    "        if c >= 2 and c1 >= 2 and c2 >= 1 and c3 >= 3 and (c + c1 + c2 + c3) >= 10:\n",
    "            print(\"valid password\")\n",
    "        else:\n",
    "            print(\"invalid password\")\n",
    "    else:\n",
    "        print(\"invalid password\")\n",
    "\n",
    "password = input(\"Enter the password: \")\n",
    "check_password(password)                 \n",
    "                \n",
    "          \n",
    "                \n",
    "                \n",
    "    \n",
    "   \n",
    "                \n",
    "    \n",
    "    \n",
    "    "
   ]
  },
  {
   "cell_type": "code",
   "execution_count": 65,
   "id": "0e12556d-30fa-4cbd-ab87-ae4e0dd8a6d3",
   "metadata": {},
   "outputs": [
    {
     "ename": "SyntaxError",
     "evalue": "'(' was never closed (3864987329.py, line 14)",
     "output_type": "error",
     "traceback": [
      "\u001b[0;36m  Cell \u001b[0;32mIn[65], line 14\u001b[0;36m\u001b[0m\n\u001b[0;31m    sorted(list(map(lambda x: x[1]))\u001b[0m\n\u001b[0m          ^\u001b[0m\n\u001b[0;31mSyntaxError\u001b[0m\u001b[0;31m:\u001b[0m '(' was never closed\n"
     ]
    }
   ],
   "source": [
    "# lambda function\n",
    "# 1.\n",
    "s= \"pwskills\"\n",
    "a=lambda x :print(\"true\") if x[0]=='p' else print(\"false\")\n",
    "a(s)\n",
    "\n",
    "#2.\n",
    "s= \"2385493\"\n",
    "a=lambda x :print(\"true\") if x.isdigit() else print(\"false\")\n",
    "a(s)\n",
    "\n",
    "#3.\n",
    "p=[(\"mango\",99),(\"orange\",80),(\"grapes\",1000)]\n",
    "sorted(list(map(lambda x: x[1])))\n",
    "\n",
    "\n",
    "\n",
    "#4.\n",
    "l= range(1,11)  \n",
    "list(map(lambda x: x**2 ,l))\n",
    "\n",
    "#5.\n",
    "l= range(1,11)  \n",
    "list(map(lambda x: x**3 ,l))\n",
    "\n",
    "#6.\n",
    "\n",
    "l1=[134,89,32,69,36,85,10,349]\n",
    "list(filter(lambda x: x%2==0 ,l1 ))\n",
    "\n",
    "#7.\n",
    "l2=[1,2,3,4,5,6,7,8,9,10]\n",
    "list(filter(lambda x: x%2 !=0,l2))\n",
    "\n",
    "#8.\n",
    "k=[1,2,3,4,5,-1,-2,-3,-4,-5,0]\n",
    "l1=[]\n",
    "l2=[]\n",
    "list(filter(lambda x: x.append))\n"
   ]
  },
  {
   "cell_type": "code",
   "execution_count": 97,
   "id": "711e0a32-bd6d-4477-bbac-c6bc514ef2a0",
   "metadata": {},
   "outputs": [
    {
     "name": "stdout",
     "output_type": "stream",
     "text": [
      "None\n"
     ]
    },
    {
     "data": {
      "text/plain": [
       "[('grapes', 1000), ('mango', 99), ('orange', 80)]"
      ]
     },
     "execution_count": 97,
     "metadata": {},
     "output_type": "execute_result"
    }
   ],
   "source": [
    "p=[(\"mango\",99),(\"orange\",80),(\"grapes\",1000)]\n",
    "res=p.sort(key=lambda x: x[1])\n",
    "print(res)\n",
    "\n",
    "           \n",
    "sorted([(\"mango\",99),(\"orange\",80),(\"grapes\",1000)] ,key=lambda x: x[0])\n",
    "                         "
   ]
  }
 ],
 "metadata": {
  "kernelspec": {
   "display_name": "Python 3 (ipykernel)",
   "language": "python",
   "name": "python3"
  },
  "language_info": {
   "codemirror_mode": {
    "name": "ipython",
    "version": 3
   },
   "file_extension": ".py",
   "mimetype": "text/x-python",
   "name": "python",
   "nbconvert_exporter": "python",
   "pygments_lexer": "ipython3",
   "version": "3.10.8"
  }
 },
 "nbformat": 4,
 "nbformat_minor": 5
}
